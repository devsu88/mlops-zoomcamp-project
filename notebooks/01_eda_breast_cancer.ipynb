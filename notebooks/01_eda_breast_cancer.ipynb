{
  "cells": [
    {
      "cell_type": "raw",
      "metadata": {
        "vscode": {
          "languageId": "raw"
        }
      },
      "source": [
        "# Breast Cancer Dataset - Exploratory Data Analysis (EDA)\n",
        "\n",
        "## Obiettivo\n",
        "Analizzare il dataset breast cancer per comprendere:\n",
        "- Distribuzione del target (benigno/maligno)\n",
        "- Caratteristiche delle features\n",
        "- Correlazioni tra variabili\n",
        "- Outliers e missing values\n",
        "- Preparazione per il modeling\n",
        "\n",
        "## Dataset\n",
        "- **Fonte**: Kaggle - Breast Cancer Dataset\n",
        "- **Target**: `diagnosis` (B=Benigno, M=Maligno)\n",
        "- **Features**: 31 features numeriche\n",
        "- **Samples**: 569 casi\n"
      ]
    },
    {
      "cell_type": "code",
      "execution_count": null,
      "metadata": {},
      "outputs": [],
      "source": [
        "# Import librerie necessarie\n",
        "import pandas as pd\n",
        "import numpy as np\n",
        "import matplotlib.pyplot as plt\n",
        "import seaborn as sns\n",
        "import warnings\n",
        "from pathlib import Path\n",
        "\n",
        "# Configurazione\n",
        "warnings.filterwarnings('ignore')\n",
        "plt.style.use('seaborn-v0_8')\n",
        "sns.set_palette(\"husl\")\n",
        "\n",
        "# Impostazioni display\n",
        "pd.set_option('display.max_columns', None)\n",
        "pd.set_option('display.width', None)\n",
        "pd.set_option('display.max_colwidth', None)\n",
        "\n",
        "print(\"✅ Librerie importate correttamente\")\n"
      ]
    },
    {
      "cell_type": "raw",
      "metadata": {
        "vscode": {
          "languageId": "raw"
        }
      },
      "source": [
        "## 1. Caricamento Dataset\n"
      ]
    },
    {
      "cell_type": "code",
      "execution_count": null,
      "metadata": {},
      "outputs": [],
      "source": [
        "# Caricamento dataset\n",
        "data_path = Path(\"../data/breast_cancer_dataset.csv\")\n",
        "df = pd.read_csv(data_path)\n",
        "\n",
        "print(f\"📊 Shape del dataset: {df.shape}\")\n",
        "print(f\"📋 Colonne: {list(df.columns)}\")\n",
        "print(f\"\\n🔍 Prime 5 righe:\")\n",
        "df.head()\n"
      ]
    },
    {
      "cell_type": "raw",
      "metadata": {
        "vscode": {
          "languageId": "raw"
        }
      },
      "source": [
        "## 2. Analisi Target (Diagnosis)\n"
      ]
    },
    {
      "cell_type": "code",
      "execution_count": null,
      "metadata": {},
      "outputs": [],
      "source": [
        "# Analisi target\n",
        "print(\"🎯 Distribuzione del target (diagnosis):\")\n",
        "target_counts = df['diagnosis'].value_counts()\n",
        "print(target_counts)\n",
        "\n",
        "# Percentuali\n",
        "target_percentages = df['diagnosis'].value_counts(normalize=True) * 100\n",
        "print(f\"\\n📊 Percentuali:\")\n",
        "for diagnosis, percentage in target_percentages.items():\n",
        "    label = \"Benigno\" if diagnosis == \"B\" else \"Maligno\"\n",
        "    print(f\"{label} ({diagnosis}): {percentage:.1f}%\")\n",
        "\n",
        "# Visualizzazione\n",
        "plt.figure(figsize=(10, 4))\n",
        "\n",
        "plt.subplot(1, 2, 1)\n",
        "target_counts.plot(kind='bar', color=['lightblue', 'lightcoral'])\n",
        "plt.title('Distribuzione Target')\n",
        "plt.xlabel('Diagnosis')\n",
        "plt.ylabel('Count')\n",
        "plt.xticks([0, 1], ['Benigno (B)', 'Maligno (M)'])\n",
        "\n",
        "plt.subplot(1, 2, 2)\n",
        "plt.pie(target_counts.values, labels=['Benigno (B)', 'Maligno (M)'], \n",
        "        autopct='%1.1f%%', colors=['lightblue', 'lightcoral'])\n",
        "plt.title('Distribuzione Target (%)')\n",
        "\n",
        "plt.tight_layout()\n",
        "plt.show()\n"
      ]
    },
    {
      "cell_type": "raw",
      "metadata": {
        "vscode": {
          "languageId": "raw"
        }
      },
      "source": [
        "## 3. Analisi Correlazioni con Target\n"
      ]
    },
    {
      "cell_type": "code",
      "execution_count": null,
      "metadata": {},
      "outputs": [],
      "source": [
        "# Correlazioni con il target\n",
        "df_with_target = df.copy()\n",
        "df_with_target['diagnosis_numeric'] = (df_with_target['diagnosis'] == 'M').astype(int)\n",
        "\n",
        "# Selezionare solo features numeriche\n",
        "numerical_features = df.select_dtypes(include=[np.number]).columns.tolist()\n",
        "target_correlations = df_with_target[numerical_features + ['diagnosis_numeric']].corr()['diagnosis_numeric'].sort_values(ascending=False)\n",
        "\n",
        "print(\"🎯 Top 10 Correlazioni con il target (diagnosis):\")\n",
        "top_correlations = target_correlations.drop('diagnosis_numeric').head(10)\n",
        "for feature, corr in top_correlations.items():\n",
        "    print(f\"  {feature}: {corr:.3f}\")\n",
        "\n",
        "# Visualizzazione correlazioni\n",
        "plt.figure(figsize=(12, 8))\n",
        "top_correlations.plot(kind='barh', color='skyblue')\n",
        "plt.title('Top 10 Features - Correlazione con Target')\n",
        "plt.xlabel('Correlazione')\n",
        "plt.tight_layout()\n",
        "plt.show()\n"
      ]
    },
    {
      "cell_type": "raw",
      "metadata": {
        "vscode": {
          "languageId": "raw"
        }
      },
      "source": [
        "## 4. Analisi Features Principali\n"
      ]
    },
    {
      "cell_type": "code",
      "execution_count": null,
      "metadata": {},
      "outputs": [],
      "source": [
        "# Analisi delle top 6 features più correlate\n",
        "top_features = ['concave points_worst', 'perimeter_worst', 'concave points_mean', \n",
        "                'radius_worst', 'perimeter_mean', 'area_worst']\n",
        "\n",
        "# Box plots per features principali\n",
        "plt.figure(figsize=(18, 12))\n",
        "for i, feature in enumerate(top_features, 1):\n",
        "    plt.subplot(2, 3, i)\n",
        "    sns.boxplot(data=df, x='diagnosis', y=feature, palette=['lightblue', 'lightcoral'])\n",
        "    plt.title(f'{feature} vs Diagnosis')\n",
        "    plt.xlabel('Diagnosis')\n",
        "    plt.ylabel(feature)\n",
        "\n",
        "plt.tight_layout()\n",
        "plt.show()\n",
        "\n",
        "# Statistiche descrittive per gruppo\n",
        "print(\"📊 Statistiche delle top features per diagnosis:\")\n",
        "for feature in top_features[:3]:\n",
        "    print(f\"\\n{feature}:\")\n",
        "    stats = df.groupby('diagnosis')[feature].describe()\n",
        "    print(stats)\n"
      ]
    },
    {
      "cell_type": "raw",
      "metadata": {
        "vscode": {
          "languageId": "raw"
        }
      },
      "source": [
        "## 5. Conclusioni EDA\n"
      ]
    },
    {
      "cell_type": "code",
      "execution_count": null,
      "metadata": {},
      "outputs": [],
      "source": [
        "# Riassunto EDA\n",
        "print(\"📋 RIASSUNTO EDA - Breast Cancer Dataset\")\n",
        "print(\"=\" * 50)\n",
        "print(f\"📊 Dataset Shape: {df.shape}\")\n",
        "print(f\"🎯 Target Distribution: {dict(target_counts)}\")\n",
        "print(f\"📈 Features Numeriche: {len(numerical_features)}\")\n",
        "\n",
        "# Missing values check\n",
        "missing_values = df.isnull().sum().sum()\n",
        "print(f\"🔍 Missing Values: {missing_values}\")\n",
        "\n",
        "# Top features per correlazione\n",
        "print(f\"\\n🏆 Top 5 Features per correlazione con target:\")\n",
        "for feature, corr in top_correlations.head().items():\n",
        "    print(f\"  {feature}: {corr:.3f}\")\n",
        "\n",
        "print(f\"\\n✅ Key Insights:\")\n",
        "print(\"1. Dataset bilanciato con leggera prevalenza di casi benigni (62.7%)\")\n",
        "print(\"2. Features 'worst' mostrano correlazioni più forti con il target\")\n",
        "print(\"3. Parametri geometrici (perimeter, radius, area) sono predittori importanti\")\n",
        "print(\"4. Features 'concave points' sono tra le più discriminanti\")\n",
        "print(\"5. Dataset pronto per il preprocessing e modeling\")\n",
        "\n",
        "print(f\"\\n📈 Prossimi Passi:\")\n",
        "print(\"1. Preprocessing delle features\")\n",
        "print(\"2. Feature selection basata su correlazioni\")\n",
        "print(\"3. Train/test split\")\n",
        "print(\"4. Model development\")\n"
      ]
    }
  ],
  "metadata": {
    "kernelspec": {
      "display_name": "mlops-breast-cancer",
      "language": "python",
      "name": "python3"
    },
    "language_info": {
      "codemirror_mode": {
        "name": "ipython",
        "version": 3
      },
      "file_extension": ".py",
      "mimetype": "text/x-python",
      "name": "python",
      "nbconvert_exporter": "python",
      "pygments_lexer": "ipython3",
      "version": "3.11.11"
    }
  },
  "nbformat": 4,
  "nbformat_minor": 2
}
